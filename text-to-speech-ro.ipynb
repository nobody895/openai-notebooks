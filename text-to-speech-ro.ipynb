{
 "cells": [
  {
   "cell_type": "markdown",
   "metadata": {},
   "source": [
    "### Text to speech in Romanian\n",
    "Reference: https://github.com/anurag265/GPT-Examples/blob/main/PDF%20to%20Audiobook/PDF%20to%20Audiobook.ipynb\n",
    "\n",
    "Limitation: OpenAI's text to speech considers only 4096 characters.\n",
    "If provided text is longer, it must be chunked.\n",
    "\n",
    "**this is bold** and this is not. _Italic_"
   ]
  },
  {
   "cell_type": "markdown",
   "metadata": {},
   "source": [
    "### Split text into chunks\n",
    "The following function splits the provided text into chunks. Maximum chunk size defaults to 4096"
   ]
  },
  {
   "cell_type": "code",
   "execution_count": 2,
   "metadata": {},
   "outputs": [],
   "source": [
    "def split_text(text, max_chunk_size=4096):\n",
    "    chunks = []  # List to hold the chunks of text\n",
    "    current_chunk = \"\"  # String to build the current chunk\n",
    "\n",
    "    # Split the text into sentences and iterate through them\n",
    "    for sentence in text.split('.'):\n",
    "        sentence = sentence.strip()  # Remove leading/trailing whitespaces\n",
    "        if not sentence:\n",
    "            continue  # Skip empty sentences\n",
    "\n",
    "        # Check if adding the sentence would exceed the max chunk size\n",
    "        if len(current_chunk) + len(sentence) + 1 <= max_chunk_size:\n",
    "            current_chunk += sentence + \".\"  # Add sentence to current chunk\n",
    "        else:\n",
    "            chunks.append(current_chunk)  # Add the current chunk to the list\n",
    "            current_chunk = sentence + \".\"  # Start a new chunk\n",
    "\n",
    "    # Add the last chunk if it's not empty\n",
    "    if current_chunk:\n",
    "        chunks.append(current_chunk)\n",
    "\n",
    "    return chunks"
   ]
  },
  {
   "cell_type": "markdown",
   "metadata": {},
   "source": [
    "### Text-to-Speech Conversion\n"
   ]
  },
  {
   "cell_type": "code",
   "execution_count": 5,
   "metadata": {},
   "outputs": [],
   "source": [
    "# Importing necessary modules\n",
    "from pathlib import Path\n",
    "import openai\n",
    "\n",
    "def text_to_speech(input_text, output_file, model=\"tts-1-hd\", voice=\"nova\"):\n",
    "    # Initialize the OpenAI client\n",
    "    client = openai.OpenAI()\n",
    "\n",
    "    # Make a request to OpenAI's Audio API with the given text, model, and voice\n",
    "    response = client.audio.speech.create(\n",
    "        model=model,      # Model for text-to-speech quality\n",
    "        voice=voice,      # Voice type\n",
    "        input=input_text  # The text to be converted into speech\n",
    "    )\n",
    "\n",
    "    # Define the path for the output audio file\n",
    "    speech_file_path = Path(output_file)\n",
    "\n",
    "    # Stream the audio response to the specified file\n",
    "    response.stream_to_file(speech_file_path)\n",
    "\n",
    "    # Print confirmation message after saving the audio file\n",
    "    print(f\"Audio saved to {speech_file_path}\")"
   ]
  },
  {
   "cell_type": "markdown",
   "metadata": {},
   "source": [
    "Convert chunks to audio. Each chunk has its own audio file."
   ]
  },
  {
   "cell_type": "code",
   "execution_count": 8,
   "metadata": {},
   "outputs": [],
   "source": [
    "# Importing necessary modules\n",
    "import os\n",
    "\n",
    "def convert_chunks_to_audio(chunks, output_folder):\n",
    "    audio_files = []  # List to store the paths of generated audio files\n",
    "\n",
    "    # Iterate over each chunk of text\n",
    "    for i, chunk in enumerate(chunks):\n",
    "        # Define the path for the output audio file\n",
    "        output_file = os.path.join(output_folder, f\"chunk_{i+1}.mp3\")\n",
    "\n",
    "        # Convert the text chunk to speech and save as an audio file\n",
    "        text_to_speech(chunk, output_file, model='tts-1-hd', voice='onyx')\n",
    "\n",
    "        # Append the path of the created audio file to the list\n",
    "        audio_files.append(output_file)\n",
    "\n",
    "    return audio_files  # Return the list of audio file paths"
   ]
  },
  {
   "cell_type": "code",
   "execution_count": 9,
   "metadata": {},
   "outputs": [
    {
     "name": "stdout",
     "output_type": "stream",
     "text": [
      "Audio saved to audio_temp/chunk_1.mp3\n",
      "Audio saved to audio_temp/chunk_2.mp3\n",
      "Audio saved to audio_temp/chunk_3.mp3\n",
      "Audio saved to audio_temp/chunk_4.mp3\n"
     ]
    },
    {
     "data": {
      "text/plain": [
       "['audio_temp/chunk_1.mp3',\n",
       " 'audio_temp/chunk_2.mp3',\n",
       " 'audio_temp/chunk_3.mp3',\n",
       " 'audio_temp/chunk_4.mp3']"
      ]
     },
     "execution_count": 9,
     "metadata": {},
     "output_type": "execute_result"
    }
   ],
   "source": [
    "def read_content(filename):\n",
    "    with open(filename, 'r') as f:\n",
    "        return f.read()\n",
    "    \n",
    "content = read_content('text/text2.txt')\n",
    "\n",
    "chunks = split_text(content)\n",
    "\n",
    "convert_chunks_to_audio(chunks, 'audio_temp')"
   ]
  },
  {
   "cell_type": "markdown",
   "metadata": {},
   "source": [
    "### Merge the chunks\n",
    "\n",
    "Merge the mp3 chunks into a single mp3 file."
   ]
  },
  {
   "cell_type": "code",
   "execution_count": 7,
   "metadata": {},
   "outputs": [
    {
     "name": "stdout",
     "output_type": "stream",
     "text": [
      "Processing file: audio_temp/chunk_1.mp3\n",
      "Processing file: audio_temp/chunk_2.mp3\n",
      "Processing file: audio_temp/chunk_3.mp3\n",
      "Processing file: audio_temp/chunk_4.mp3\n",
      "MoviePy - Writing audio in combined_audio.mp3\n"
     ]
    },
    {
     "name": "stderr",
     "output_type": "stream",
     "text": [
      "                                                                        "
     ]
    },
    {
     "name": "stdout",
     "output_type": "stream",
     "text": [
      "MoviePy - Done.\n",
      "Combined audio saved to combined_audio.mp3\n"
     ]
    },
    {
     "name": "stderr",
     "output_type": "stream",
     "text": [
      "\r"
     ]
    }
   ],
   "source": [
    "import re\n",
    "from moviepy.editor import concatenate_audioclips, AudioFileClip\n",
    "import os\n",
    "\n",
    "def extract_number(filename):\n",
    "    \"\"\" Extracts the number from the filename \"\"\"\n",
    "    numbers = re.findall(r'\\d+', filename)\n",
    "    return int(numbers[0]) if numbers else 0\n",
    "\n",
    "def combine_audio_with_moviepy(folder_path, output_file):\n",
    "    audio_clips = []  # List to store the audio clips\n",
    "\n",
    "    # Retrieve and sort files based on the numeric part of the filename\n",
    "    sorted_files = sorted(os.listdir(folder_path), key=extract_number)\n",
    "\n",
    "    # Iterate through each sorted file in the given folder\n",
    "    for file_name in sorted_files:\n",
    "        if file_name.endswith('.mp3'):\n",
    "            # Construct the full path of the audio file\n",
    "            file_path = os.path.join(folder_path, file_name)\n",
    "            print(f\"Processing file: {file_path}\")\n",
    "\n",
    "            try:\n",
    "                # Create an AudioFileClip object for each audio file\n",
    "                clip = AudioFileClip(file_path)\n",
    "                audio_clips.append(clip)  # Add the clip to the list\n",
    "            except Exception as e:\n",
    "                # Print any errors encountered while processing the file\n",
    "                print(f\"Error processing file {file_path}: {e}\")\n",
    "\n",
    "    # Check if there are any audio clips to combine\n",
    "    if audio_clips:\n",
    "        # Concatenate all the audio clips into a single clip\n",
    "        final_clip = concatenate_audioclips(audio_clips)\n",
    "        # Write the combined clip to the specified output file\n",
    "        final_clip.write_audiofile(output_file)\n",
    "        print(f\"Combined audio saved to {output_file}\")\n",
    "    else:\n",
    "        print(\"No audio clips to combine.\")\n",
    "\n",
    "\n",
    "# Function Usage\n",
    "combine_audio_with_moviepy('audio_temp', 'combined_audio.mp3')"
   ]
  }
 ],
 "metadata": {
  "kernelspec": {
   "display_name": ".venv",
   "language": "python",
   "name": "python3"
  },
  "language_info": {
   "codemirror_mode": {
    "name": "ipython",
    "version": 3
   },
   "file_extension": ".py",
   "mimetype": "text/x-python",
   "name": "python",
   "nbconvert_exporter": "python",
   "pygments_lexer": "ipython3",
   "version": "3.10.8"
  }
 },
 "nbformat": 4,
 "nbformat_minor": 2
}
